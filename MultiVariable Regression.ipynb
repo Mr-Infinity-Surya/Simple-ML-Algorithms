{
 "cells": [
  {
   "cell_type": "code",
   "execution_count": 1,
   "metadata": {},
   "outputs": [
    {
     "name": "stdout",
     "output_type": "stream",
     "text": [
      "parameters using Normal Eq: [-1.2594  0.5907  0.3503  0.0286 -0.0165  0.1118  1.1894  0.0245]\n",
      "Cost using Normal Eq: 0.00199345\n",
      "Error using Normal Equtaion:  0.00184317\n",
      "parameters using Gradient Descent:: [-1.2592  0.5902  0.3505  0.0286 -0.0165  0.1118  1.1895  0.0245]\n",
      "Cost using Gradient Descent: 0.00199345\n",
      "Error using Gradient Descent:  0.001843\n"
     ]
    },
    {
     "data": {
      "text/plain": [
       "[<matplotlib.lines.Line2D at 0x7f8c543587d0>]"
      ]
     },
     "execution_count": 1,
     "metadata": {},
     "output_type": "execute_result"
    },
    {
     "data": {
      "image/png": "[encoded data removed]",
      "text/plain": [
       "<Figure size 432x288 with 1 Axes>"
      ]
     },
     "metadata": {
      "needs_background": "light"
     },
     "output_type": "display_data"
    }
   ],
   "source": [
    "import numpy as np\n",
    "import matplotlib.pyplot as plt\n",
    "from numpy import random\n",
    "import pandas as pd\n",
    "from sklearn.linear_model import LinearRegression\n",
    "\n",
    "ip=pd.read_csv(\"datasets_14872_228180_Admission_Predict_Ver1.1.csv\")\n",
    "ip=ip.drop(\"Serial No.\",axis=1)\n",
    "\n",
    "def featureScale(x): return (x-np.average(x))/(x.std())\n",
    "def cost(x,y,theta):\n",
    "    J=np.average((x.dot(theta)-y)**2)\n",
    "    return J/2\n",
    "def grad(x,y,theta,alpha):\n",
    "    val=theta - (alpha/y.size)*np.transpose(x).dot(x.dot(theta)-y)\n",
    "    return val\n",
    "\n",
    "y = np.array(ip['Chance of Admit '])\n",
    "\n",
    "\n",
    "x = np.array(ip.loc[:, ip.columns != 'Chance of Admit '])\n",
    "m=y.size\n",
    "x=np.insert(x, 0, np.ones(m), axis=1)\n",
    "\n",
    "x[:,1]/=340\n",
    "x[:,2]/=120\n",
    "x[:,[3,4,5]]/=5\n",
    "x[:,6]/=10\n",
    "\n",
    "xtrain=x[:400]\n",
    "ytrain=y[:400]\n",
    "xtest=x[400:]\n",
    "ytest=y[400:]\n",
    "numitr=100000\n",
    "alpha=0.35\n",
    "theta=np.array([0,1,1,1,1,1,1,1])\n",
    "\n",
    "\n",
    "normeq=np.linalg.inv(np.transpose(xtrain).dot(xtrain)).dot(np.transpose(xtrain)).dot(ytrain)\n",
    "print(\"parameters using Normal Eq:\",np.around(normeq,decimals=4))\n",
    "print(\"Cost using Normal Eq:\",round(cost(xtrain,ytrain,normeq),8))\n",
    "error=(xtest.dot(normeq)-ytest)**2\n",
    "print(\"Error using Normal Equtaion: \",round(np.average(error),8))\n",
    "\n",
    "J=[]\n",
    "for i in range(numitr):\n",
    "    if(i%10==0): J.append(cost(xtrain,ytrain,theta))\n",
    "    theta=grad(xtrain,ytrain,theta,alpha)\n",
    "print(\"parameters using Gradient Descent::\",np.around(theta,decimals=4))\n",
    "print(\"Cost using Gradient Descent:\",round(J[-1],8))\n",
    "error=(xtest.dot(theta)-ytest)**2\n",
    "print(\"Error using Gradient Descent: \",round(np.average(error),6))\n",
    "\n",
    "plt.plot(J[10:1000])\n"
   ]
  },
  {
   "cell_type": "code",
   "execution_count": null,
   "metadata": {},
   "outputs": [],
   "source": []
  }
 ],
 "metadata": {
  "kernelspec": {
   "display_name": "Python 3",
   "language": "python",
   "name": "python3"
  },
  "language_info": {
   "codemirror_mode": {
    "name": "ipython",
    "version": 3
   },
   "file_extension": ".py",
   "mimetype": "text/x-python",
   "name": "python",
   "nbconvert_exporter": "python",
   "pygments_lexer": "ipython3",
   "version": "3.8.10"
  }
 },
 "nbformat": 4,
 "nbformat_minor": 4
}
