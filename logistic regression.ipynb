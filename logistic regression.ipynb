{
 "cells": [
  {
   "cell_type": "code",
   "execution_count": 3,
   "metadata": {},
   "outputs": [
    {
     "name": "stdout",
     "output_type": "stream",
     "text": [
      "parameters using Gradient Descent:: [[-0.0498]\n",
      " [-0.913 ]\n",
      " [ 0.8159]\n",
      " [-0.4352]\n",
      " [-0.052 ]\n",
      " [ 0.0386]\n",
      " [ 0.4439]\n",
      " [ 1.6175]\n",
      " [-1.0491]\n",
      " [-0.5425]\n",
      " [ 0.9907]\n",
      " [-0.7921]\n",
      " [-0.7605]]\n",
      "(53,) (53,)\n",
      "confusion matrix using gradient descent(my implementaion) : \n",
      "[[12  7]\n",
      " [ 5 29]]\n",
      "fscore (mine) 0.6666666666666666\n",
      "Accuracy of Logistic Regression: 77.35849056603774\n",
      "confusion matrix using sklrn : \n",
      "[[13  6]\n",
      " [ 5 29]]\n",
      "fscore (sklrn) 0.7027027027027026\n",
      "Accuracy of Logistic Regression: 79.24528301886792\n"
     ]
    },
    {
     "name": "stderr",
     "output_type": "stream",
     "text": [
      "/home/surya/anaconda3/lib/python3.7/site-packages/sklearn/utils/validation.py:760: DataConversionWarning: A column-vector y was passed when a 1d array was expected. Please change the shape of y to (n_samples, ), for example using ravel().\n",
      "  y = column_or_1d(y, warn=True)\n"
     ]
    },
    {
     "data": {
      "image/png": "[encoded data removed]",
      "text/plain": [
       "<Figure size 432x288 with 1 Axes>"
      ]
     },
     "metadata": {
      "needs_background": "light"
     },
     "output_type": "display_data"
    }
   ],
   "source": [
    "#loading dataset\n",
    "import pandas as pd\n",
    "import numpy as np\n",
    "#visualisation\n",
    "import matplotlib.pyplot as plt\n",
    "import seaborn as sns\n",
    "\n",
    "from sklearn.metrics import confusion_matrix,accuracy_score,roc_curve\n",
    "from sklearn.linear_model import LogisticRegression\n",
    "from sklearn.naive_bayes import GaussianNB,Kneighboursclassifiers\n",
    "\n",
    "def featureScale(x): return (x-np.average(x))/(x.std())\n",
    "#age,sex,cp,trestbps,chol,fbs,restecg,thalach,exang,oldpeak,slope,ca,thal,target\n",
    "ip=pd.read_csv(\"heart.csv\")\n",
    "\n",
    "y = np.array(ip['target'])\n",
    "x = np.array(ip.loc[:, ip.columns != 'target'])\n",
    "#x=np.insert(x, 0, np.ones(y.size), axis=1)\n",
    "\n",
    "x[:,[0]]/=10\n",
    "x[:,[3,4,7]]/=100\n",
    "\n",
    "m=250\n",
    "xtrain=x[:m]\n",
    "ytrain=y[:m]\n",
    "ytrain=np.reshape(ytrain,(ytrain.size,1))\n",
    "xtest=x[m:]\n",
    "ytest=y[m:]\n",
    "\n",
    "numitr=4000\n",
    "alpha=0.1\n",
    "lam=0.3\n",
    "\n",
    "theta=np.transpose(np.array([np.ones(13)]))\n",
    "def cost(x,y,theta,lam):\n",
    "    hy=1/(1+np.exp(-x.dot(theta)))\n",
    "    #theta[0]=0\n",
    "    J=(np.transpose(y)).dot(np.log(hy))+(np.transpose(1-y)).dot(np.log(1-hy))\n",
    "    reg=theta**2\n",
    "    c=lam*0.5*np.sum(reg)\n",
    "    return (c-J[0][0])/y.size\n",
    "def grad(x,y,theta,alpha):\n",
    "    hy=1/(1+np.exp(-x.dot(theta)))\n",
    "    theta[0]=0\n",
    "    val=(np.transpose(x)).dot(hy-y)+lam*theta\n",
    "    #val=np.transpose(np.transpose(hy-y).dot(x))\n",
    "    val*=alpha/y.size\n",
    "    return val[:]\n",
    "J=[]\n",
    "\n",
    "for i in range(numitr):\n",
    "    if(i%10==0): J.append(cost(xtrain,ytrain,theta,lam))\n",
    "    theta=theta*(1-alpha/ytrain.size)-grad(xtrain,ytrain,theta,alpha)\n",
    "print(\"parameters using Gradient Descent::\",np.around(theta,decimals=4))\n",
    "plt.plot(J[20:])\n",
    "hy=1/(1+np.exp(-xtest.dot(theta)))\n",
    "hy=[int(i>=0.5) for i in hy]\n",
    "hy = np.array(hy) \n",
    "pred=hy\n",
    "print(ytest.shape,pred.shape)\n",
    "def fscore(conf):\n",
    "    return 1/(1+(conf[0][1]+conf[1][0])/(2*conf[0][0]))\n",
    "#print(\"Cost using Gradient Descent:\",round(J[-1],8))\n",
    "\n",
    "lr = LogisticRegression()\n",
    "model = lr.fit(xtrain, ytrain)\n",
    "lr_predict = lr.predict(xtest)\n",
    "mypred=confusion_matrix(ytest, pred)\n",
    "print(\"confusion matrix using gradient descent(my implementaion) : \")\n",
    "print(mypred)\n",
    "print(\"fscore (mine)\",fscore(mypred))\n",
    "lr_conf_matrix = confusion_matrix(ytest, lr_predict)\n",
    "myscore = accuracy_score(ytest, pred)\n",
    "print(\"Accuracy of Logistic Regression:\",myscore*100)\n",
    "lr_acc_score = accuracy_score(ytest, lr_predict)\n",
    "print(\"confusion matrix using sklrn : \")\n",
    "print(lr_conf_matrix)\n",
    "print(\"fscore (sklrn)\",fscore(lr_conf_matrix))\n",
    "print(\"Accuracy of Logistic Regression:\",lr_acc_score*100)\n"
   ]
  },
  {
   "cell_type": "code",
   "execution_count": null,
   "metadata": {},
   "outputs": [],
   "source": []
  },
  {
   "cell_type": "code",
   "execution_count": null,
   "metadata": {},
   "outputs": [],
   "source": []
  }
 ],
 "metadata": {
  "kernelspec": {
   "display_name": "Python 3",
   "language": "python",
   "name": "python3"
  },
  "language_info": {
   "codemirror_mode": {
    "name": "ipython",
    "version": 3
   },
   "file_extension": ".py",
   "mimetype": "text/x-python",
   "name": "python",
   "nbconvert_exporter": "python",
   "pygments_lexer": "ipython3",
   "version": "3.8.10"
  }
 },
 "nbformat": 4,
 "nbformat_minor": 4
}
